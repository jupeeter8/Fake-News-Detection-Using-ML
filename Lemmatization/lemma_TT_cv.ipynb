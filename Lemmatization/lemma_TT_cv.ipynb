{
 "cells": [
  {
   "cell_type": "code",
   "execution_count": 1,
   "metadata": {},
   "outputs": [
    {
     "name": "stderr",
     "output_type": "stream",
     "text": [
      "[nltk_data] Downloading package stopwords to /home/ani/nltk_data...\n",
      "[nltk_data]   Package stopwords is already up-to-date!\n",
      "[nltk_data] Downloading package wordnet to /home/ani/nltk_data...\n",
      "[nltk_data]   Package wordnet is already up-to-date!\n",
      "[nltk_data] Downloading package omw-1.4 to /home/ani/nltk_data...\n",
      "[nltk_data]   Package omw-1.4 is already up-to-date!\n"
     ]
    }
   ],
   "source": [
    "import pandas as pd\n",
    "import numpy as np\n",
    "import re\n",
    "import nltk\n",
    "nltk.download('stopwords')\n",
    "nltk.download('wordnet')\n",
    "nltk.download('omw-1.4')\n",
    "from nltk.stem.wordnet import WordNetLemmatizer\n",
    "from nltk.corpus import stopwords"
   ]
  },
  {
   "cell_type": "code",
   "execution_count": 2,
   "metadata": {},
   "outputs": [],
   "source": [
    "lemmatizer = WordNetLemmatizer()\n",
    "stop_words = set(stopwords.words('english'))"
   ]
  },
  {
   "cell_type": "code",
   "execution_count": null,
   "metadata": {},
   "outputs": [],
   "source": [
    "data = pd.read_csv(r'../fake_or_real_news.csv')"
   ]
  },
  {
   "cell_type": "code",
   "execution_count": 4,
   "metadata": {},
   "outputs": [],
   "source": [
    "data = data.drop(['author'], axis = 1)"
   ]
  },
  {
   "cell_type": "code",
   "execution_count": 5,
   "metadata": {},
   "outputs": [
    {
     "data": {
      "text/html": [
       "<div>\n",
       "<style scoped>\n",
       "    .dataframe tbody tr th:only-of-type {\n",
       "        vertical-align: middle;\n",
       "    }\n",
       "\n",
       "    .dataframe tbody tr th {\n",
       "        vertical-align: top;\n",
       "    }\n",
       "\n",
       "    .dataframe thead th {\n",
       "        text-align: right;\n",
       "    }\n",
       "</style>\n",
       "<table border=\"1\" class=\"dataframe\">\n",
       "  <thead>\n",
       "    <tr style=\"text-align: right;\">\n",
       "      <th></th>\n",
       "      <th>title</th>\n",
       "      <th>text</th>\n",
       "      <th>label</th>\n",
       "    </tr>\n",
       "  </thead>\n",
       "  <tbody>\n",
       "    <tr>\n",
       "      <th>0</th>\n",
       "      <td>You Can Smell Hillary’s Fear</td>\n",
       "      <td>Daniel Greenfield, a Shillman Journalism Fello...</td>\n",
       "      <td>FAKE</td>\n",
       "    </tr>\n",
       "    <tr>\n",
       "      <th>1</th>\n",
       "      <td>Watch The Exact Moment Paul Ryan Committed Pol...</td>\n",
       "      <td>Google Pinterest Digg Linkedin Reddit Stumbleu...</td>\n",
       "      <td>FAKE</td>\n",
       "    </tr>\n",
       "    <tr>\n",
       "      <th>2</th>\n",
       "      <td>Kerry to go to Paris in gesture of sympathy</td>\n",
       "      <td>U.S. Secretary of State John F. Kerry said Mon...</td>\n",
       "      <td>REAL</td>\n",
       "    </tr>\n",
       "    <tr>\n",
       "      <th>3</th>\n",
       "      <td>Bernie supporters on Twitter erupt in anger ag...</td>\n",
       "      <td>— Kaydee King (@KaydeeKing) November 9, 2016 T...</td>\n",
       "      <td>FAKE</td>\n",
       "    </tr>\n",
       "    <tr>\n",
       "      <th>4</th>\n",
       "      <td>The Battle of New York: Why This Primary Matters</td>\n",
       "      <td>It's primary day in New York and front-runners...</td>\n",
       "      <td>REAL</td>\n",
       "    </tr>\n",
       "  </tbody>\n",
       "</table>\n",
       "</div>"
      ],
      "text/plain": [
       "                                               title  \\\n",
       "0                       You Can Smell Hillary’s Fear   \n",
       "1  Watch The Exact Moment Paul Ryan Committed Pol...   \n",
       "2        Kerry to go to Paris in gesture of sympathy   \n",
       "3  Bernie supporters on Twitter erupt in anger ag...   \n",
       "4   The Battle of New York: Why This Primary Matters   \n",
       "\n",
       "                                                text label  \n",
       "0  Daniel Greenfield, a Shillman Journalism Fello...  FAKE  \n",
       "1  Google Pinterest Digg Linkedin Reddit Stumbleu...  FAKE  \n",
       "2  U.S. Secretary of State John F. Kerry said Mon...  REAL  \n",
       "3  — Kaydee King (@KaydeeKing) November 9, 2016 T...  FAKE  \n",
       "4  It's primary day in New York and front-runners...  REAL  "
      ]
     },
     "execution_count": 5,
     "metadata": {},
     "output_type": "execute_result"
    }
   ],
   "source": [
    "data = data.iloc[:, :3]\n",
    "data.head()"
   ]
  },
  {
   "cell_type": "code",
   "execution_count": 6,
   "metadata": {},
   "outputs": [],
   "source": [
    "data = data.dropna()"
   ]
  },
  {
   "cell_type": "markdown",
   "metadata": {},
   "source": [
    "## Replacing values of ***label*** column from ***FAKE*** to ***1*** and ***REAL*** to ***0***"
   ]
  },
  {
   "cell_type": "code",
   "execution_count": 7,
   "metadata": {},
   "outputs": [],
   "source": [
    "data.loc[data.label != 'REAL', 'label'] = 1\n",
    "data.loc[data.label == 'REAL', 'label'] = 0"
   ]
  },
  {
   "cell_type": "markdown",
   "metadata": {},
   "source": [
    "## Flattening 2D Y array to ***linear array***"
   ]
  },
  {
   "cell_type": "code",
   "execution_count": 8,
   "metadata": {},
   "outputs": [],
   "source": [
    "y = data.iloc[:, -1:].values\n",
    "y = [i for sub in y for i in sub]"
   ]
  },
  {
   "cell_type": "markdown",
   "metadata": {},
   "source": [
    "## Exracting x by combining ***title*** and ***text***"
   ]
  },
  {
   "cell_type": "code",
   "execution_count": 9,
   "metadata": {},
   "outputs": [],
   "source": [
    "def transform(c):\n",
    "    return c[\"title\"] + \" \" + c[\"text\"]\n",
    "x = data.apply(transform, axis=1)"
   ]
  },
  {
   "cell_type": "code",
   "execution_count": 10,
   "metadata": {},
   "outputs": [],
   "source": [
    "def lemma(text):\n",
    "    text = re.sub('[^a-zA-Z]', ' ', text)\n",
    "    text = text.lower()\n",
    "    text = text.split()\n",
    "    text = [w for w in text if not w in stop_words]\n",
    "    text = [lemmatizer.lemmatize(word) for word in text]\n",
    "    text = \" \".join(text)\n",
    "    return text"
   ]
  },
  {
   "cell_type": "code",
   "execution_count": 11,
   "metadata": {},
   "outputs": [
    {
     "data": {
      "text/plain": [
       "0        smell hillary fear daniel greenfield shillman ...\n",
       "1        watch exact moment paul ryan committed politic...\n",
       "2        kerry go paris gesture sympathy u secretary st...\n",
       "3        bernie supporter twitter erupt anger dnc tried...\n",
       "4        battle new york primary matter primary day new...\n",
       "                               ...                        \n",
       "70795    tesla earnings smash expectation dramatic chan...\n",
       "70796    rule ruler world really work following video m...\n",
       "70797    fact check trump right clinton might cause ww ...\n",
       "70798    caught tape isi destroys iraqi abrams anti tan...\n",
       "70799    obamacare architect admits law working designe...\n",
       "Length: 64733, dtype: object"
      ]
     },
     "execution_count": 11,
     "metadata": {},
     "output_type": "execute_result"
    }
   ],
   "source": [
    "x = x.apply(lemma)\n",
    "x"
   ]
  },
  {
   "cell_type": "code",
   "execution_count": 12,
   "metadata": {},
   "outputs": [],
   "source": [
    "from sklearn.feature_extraction.text import TfidfVectorizer, CountVectorizer\n",
    "from sklearn.model_selection import train_test_split\n",
    "from sklearn.metrics import classification_report, accuracy_score\n",
    "from sklearn.linear_model import LogisticRegression"
   ]
  },
  {
   "cell_type": "code",
   "execution_count": 13,
   "metadata": {},
   "outputs": [],
   "source": [
    "c_vec = CountVectorizer(max_features=5000)\n",
    "lr_model = LogisticRegression()"
   ]
  },
  {
   "cell_type": "code",
   "execution_count": 14,
   "metadata": {},
   "outputs": [],
   "source": [
    "x_train, x_test, y_train, y_test = train_test_split(x, y, test_size=0.20, random_state=1)"
   ]
  },
  {
   "cell_type": "code",
   "execution_count": 15,
   "metadata": {},
   "outputs": [],
   "source": [
    "x_train = c_vec.fit_transform(x_train).toarray()\n",
    "x_test = c_vec.transform(x_test).toarray()"
   ]
  },
  {
   "cell_type": "code",
   "execution_count": 16,
   "metadata": {},
   "outputs": [],
   "source": [
    "def logReg(x, y):\n",
    "  lr_model.fit(x_train, y_train)\n",
    "  y_trainPred = lr_model.predict(x_train)\n",
    "  y_testPred = lr_model.predict(x_test)\n",
    "  print(\"Accuracy of training = \", accuracy_score(y_trainPred, y_train))\n",
    "  print('Training accuracy\\n')\n",
    "  print(classification_report(y_train, y_trainPred))\n",
    "  print(\"Accuracy of Testing = \", accuracy_score(y_testPred, y_test))\n",
    "  print('Testing Results\\n')\n",
    "  clf_report = classification_report(y_test, y_testPred, output_dict=True)\n",
    "  print(classification_report(y_test, y_testPred))\n",
    "  return clf_report"
   ]
  },
  {
   "cell_type": "code",
   "execution_count": 17,
   "metadata": {},
   "outputs": [
    {
     "name": "stderr",
     "output_type": "stream",
     "text": [
      "/home/ani/Aiproj/venv/lib/python3.10/site-packages/sklearn/linear_model/_logistic.py:814: ConvergenceWarning: lbfgs failed to converge (status=1):\n",
      "STOP: TOTAL NO. of ITERATIONS REACHED LIMIT.\n",
      "\n",
      "Increase the number of iterations (max_iter) or scale the data as shown in:\n",
      "    https://scikit-learn.org/stable/modules/preprocessing.html\n",
      "Please also refer to the documentation for alternative solver options:\n",
      "    https://scikit-learn.org/stable/modules/linear_model.html#logistic-regression\n",
      "  n_iter_i = _check_optimize_result(\n"
     ]
    },
    {
     "name": "stdout",
     "output_type": "stream",
     "text": [
      "Accuracy of training =  0.9981655273626077\n",
      "Training accuracy\n",
      "\n",
      "              precision    recall  f1-score   support\n",
      "\n",
      "           0       1.00      0.96      0.98      2519\n",
      "           1       1.00      1.00      1.00     49267\n",
      "\n",
      "    accuracy                           1.00     51786\n",
      "   macro avg       1.00      0.98      0.99     51786\n",
      "weighted avg       1.00      1.00      1.00     51786\n",
      "\n",
      "Accuracy of Testing =  0.9765968950335985\n",
      "Testing Results\n",
      "\n",
      "              precision    recall  f1-score   support\n",
      "\n",
      "           0       0.81      0.69      0.74       642\n",
      "           1       0.98      0.99      0.99     12305\n",
      "\n",
      "    accuracy                           0.98     12947\n",
      "   macro avg       0.90      0.84      0.87     12947\n",
      "weighted avg       0.98      0.98      0.98     12947\n",
      "\n"
     ]
    }
   ],
   "source": [
    "clf = logReg(x_train, y_train)"
   ]
  },
  {
   "cell_type": "code",
   "execution_count": 18,
   "metadata": {},
   "outputs": [
    {
     "data": {
      "text/plain": [
       "<AxesSubplot:>"
      ]
     },
     "execution_count": 18,
     "metadata": {},
     "output_type": "execute_result"
    },
    {
     "data": {
      "image/png": "[encoded data removed]",
      "text/plain": [
       "<Figure size 432x288 with 2 Axes>"
      ]
     },
     "metadata": {
      "needs_background": "light"
     },
     "output_type": "display_data"
    }
   ],
   "source": [
    "import seaborn as sns\n",
    "sns.heatmap(pd.DataFrame(clf).iloc[:-1, :].T, annot=True)"
   ]
  },
  {
   "cell_type": "code",
   "execution_count": 19,
   "metadata": {},
   "outputs": [],
   "source": [
    "import joblib\n",
    "model = joblib.load('Lemmatization-TT-CountVectorize')"
   ]
  },
  {
   "cell_type": "markdown",
   "metadata": {},
   "source": [
    "## Testing the model on user given input"
   ]
  },
  {
   "cell_type": "code",
   "execution_count": 20,
   "metadata": {},
   "outputs": [],
   "source": [
    "sen = \"Defending her performance against recent reports of cognitive decline, senior United States senator Dianne Feinstein argued Friday that she was still perfectly mentally fit to continue captaining the submarine. “If my fish colleagues have any doubts about my ability to damn the torpedoes or up the periscope, they simply haven’t told me,” said Feinstein, who admitted that she had briefly forgotten her first lieutenant’s name during a meeting at his battle station before blaming it on stress related to enemy ships rapidly pinging on radar. “Until I hear a compelling reason why I should step down as captain of this ship, I’m afraid I’ll just have to chock up these rumors to a mutiny brewing among my crew.” Feinstein declined to discuss her retirement, stressing that even if the submarine should spring a leak, she was prepared to go down with the ship.\"\n",
    "sen = lemma(sen)\n",
    "sen = pd.Series(sen)\n",
    "sen = sen = c_vec.transform(sen).toarray()"
   ]
  },
  {
   "cell_type": "code",
   "execution_count": 21,
   "metadata": {},
   "outputs": [
    {
     "name": "stdout",
     "output_type": "stream",
     "text": [
      "[1]\n"
     ]
    }
   ],
   "source": [
    "print(model.predict(sen))\n"
   ]
  },
  {
   "cell_type": "code",
   "execution_count": 22,
   "metadata": {},
   "outputs": [],
   "source": [
    "sen2 = \"Filing Provides New Details on Trump White House Planning for Jan. 6 WASHINGTON — Before the Jan. 6 attack on the Capitol, Trump White House officials and members of the right-wing House Freedom Caucus strategized about a plan to direct thousands of angry marchers to the building, according to newly released testimony obtained by the House committee investigating the riot and former President Donald J. Trumps efforts to overturn the election.On a planning call that included Mark Meadows, the White House chief of staff; Rudolph W. Giuliani, Mr. Trumps personal lawyer; Representative Jim Jordan, Republican of Ohio; and other Freedom Caucus members, the group discussed the idea of encouraging supporters to march to the Capitol, according to one witnesss account.The idea was endorsed by Representative Scott Perry, Republican of Pennsylvania, who now leads the Freedom Caucus, according to testimony by Cassidy Hutchinson, an aide to Mr. Meadows, and no one on the call spoke out against the idea.“I dont think theres a participant on the call that had necessarily discouraged the idea,” Ms. Hutchinson told the committees investigators.The nearly two-mile march from the president “Stop the Steal” rally at the Ellipse to the Capitol, where parts of the crowd became a violent mob, has become a focus of both the House committee and the Justice Department as they investigate who was responsible for the violence.Mr. Meadows and members of the Freedom Caucus, who were deeply involved in Mr. Trump push to overturn the 2020 election, have condemned the violence at the Capitol on Jan. 6 and defended their role in spreading the lie of a stolen election.Ms. Hutchinsons testimony and other materials disclosed by the committee in a 248-page court filing on Friday added new details and texture to what is publicly known about the discussions in Mr. Trumps inner circle and among his allies in the weeks preceding the Jan. 6 assault.\"\n",
    "sen2 = lemma(sen2)\n",
    "sen2 = pd.Series(sen2)\n",
    "sen2 = sen = c_vec.transform(sen2).toarray()"
   ]
  },
  {
   "cell_type": "code",
   "execution_count": 23,
   "metadata": {},
   "outputs": [
    {
     "name": "stdout",
     "output_type": "stream",
     "text": [
      "[0]\n"
     ]
    }
   ],
   "source": [
    "print(model.predict(sen2))"
   ]
  },
  {
   "cell_type": "code",
   "execution_count": 24,
   "metadata": {},
   "outputs": [],
   "source": [
    "sen3 = \"Local election chief threatened by Republican leader seeking illegal access to voting equipment April 23 (Reuters) - A local Republican Party leader in North Carolina threatened to get a county elections director fired or have her pay cut unless she helped him gain illegal access to voting equipment, the state elections board told Reuters. The party official, William Keith Senter, sought evidence to support false conspiracy theories alleging the 2020 election was rigged against former U.S. President Donald Trump. The previously unreported incident is part of a national effort by Trump supporters to audit voting systems to bolster the baseless stolen-election claims. Senter, chair of the Surry County Republican Party, told elections director Michella Huff that he would ensure she lost her job if she refused his demand to access the county's vote tabulators, the North Carolina State Board of Elections said in written responses to questions from Reuters. Senter was aggressive, threatening, and hostile, in two meetings with Huff, the state elections board said, citing witness accounts. Senter did not respond to requests for comment. Huff, who refused Senter's demands, was disturbed by the incident of political intimidation. Such threats have become common nationwide since the 2020 election. Reuters has documented more than 900 threatening or hostile messages aimed at election officials in a series of investigative reports.\"\n",
    "sen3 = lemma(sen3)\n",
    "sen3 = pd.Series(sen3)\n",
    "sen3 = sen = c_vec.transform(sen3).toarray()"
   ]
  },
  {
   "cell_type": "code",
   "execution_count": 25,
   "metadata": {},
   "outputs": [
    {
     "name": "stdout",
     "output_type": "stream",
     "text": [
      "[1]\n"
     ]
    }
   ],
   "source": [
    "print(model.predict(sen3))\n"
   ]
  }
 ],
 "metadata": {
  "interpreter": {
   "hash": "dbebb011c73bef65b9af370c38304bd776b34c20106fdce7fc239024997509d8"
  },
  "kernelspec": {
   "display_name": "Python 3.10.4 ('venv': venv)",
   "language": "python",
   "name": "python3"
  },
  "language_info": {
   "codemirror_mode": {
    "name": "ipython",
    "version": 3
   },
   "file_extension": ".py",
   "mimetype": "text/x-python",
   "name": "python",
   "nbconvert_exporter": "python",
   "pygments_lexer": "ipython3",
   "version": "3.10.4"
  },
  "orig_nbformat": 4
 },
 "nbformat": 4,
 "nbformat_minor": 2
}
